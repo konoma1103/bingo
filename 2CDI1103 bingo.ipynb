{
 "cells": [
  {
   "cell_type": "code",
   "execution_count": 28,
   "id": "42ad5b82",
   "metadata": {},
   "outputs": [],
   "source": [
    "import tkinter as tk\n",
    "import tkinter.ttk as ttk\n",
    "import random"
   ]
  },
  {
   "cell_type": "code",
   "execution_count": 29,
   "id": "49026d29",
   "metadata": {},
   "outputs": [],
   "source": [
    "# 1から75までの範囲の整数をランダムに選んで表示する関数\n",
    "hyoji = []\n",
    "def atai():\n",
    "  while 1:\n",
    "    if len(hyoji) >= 75:       # 75個の整数を全て出し切ったらループができないようにする\n",
    "        break\n",
    "    ran = random.randint(1,75)\n",
    "    if ran not in hyoji:\n",
    "        hyoji.append(ran)\n",
    "        atari.set(ran)\n",
    "        \n",
    "        hyoji_str_l = map(str, hyoji)       # 配列hyojiの要素をint型からString型に変換\n",
    "        hyoji_str = ' '.join(hyoji_str_l)   # 配列hyoji_str_lを文字列に変換\n",
    "        history.set(hyoji_str)\n",
    "        break"
   ]
  },
  {
   "cell_type": "code",
   "execution_count": 30,
   "id": "64f84114",
   "metadata": {
    "scrolled": false
   },
   "outputs": [
    {
     "data": {
      "text/plain": [
       "''"
      ]
     },
     "execution_count": 30,
     "metadata": {},
     "output_type": "execute_result"
    }
   ],
   "source": [
    "# メインウィンドウの作成\n",
    "root = tk.Tk()\n",
    "root.title(\"ビンゴの司会システム Ver1\")\n",
    "root.geometry(\"650x400\")"
   ]
  },
  {
   "cell_type": "code",
   "execution_count": 31,
   "id": "29b0e0a8",
   "metadata": {},
   "outputs": [],
   "source": [
    "# メインフレームの作成\n",
    "frame = ttk.Frame(root)\n",
    "frame.pack(expand=True, fill=tk.BOTH)"
   ]
  },
  {
   "cell_type": "code",
   "execution_count": 32,
   "id": "fc69fa47",
   "metadata": {},
   "outputs": [],
   "source": [
    "# ウィジェット変数の生成\n",
    "atari = tk.IntVar(frame)\n",
    "history = tk.StringVar(frame)"
   ]
  },
  {
   "cell_type": "code",
   "execution_count": 33,
   "id": "28ab6ed3",
   "metadata": {},
   "outputs": [],
   "source": [
    "# 今、選択された値を表示するラベル\n",
    "label = ttk.Label(frame, textvariable=atari, font=(\"MSゴシック\", \"50\", \"bold\"))\n",
    "label.pack(pady=20)"
   ]
  },
  {
   "cell_type": "code",
   "execution_count": 34,
   "id": "c5bed12d",
   "metadata": {},
   "outputs": [],
   "source": [
    "# ランダムな整数を生成するボタン\n",
    "button = ttk.Button(frame, text=\"Push\", width=20, command=atai)\n",
    "button.pack(pady=20)"
   ]
  },
  {
   "cell_type": "code",
   "execution_count": 35,
   "id": "a8a36009",
   "metadata": {},
   "outputs": [],
   "source": [
    "# 選択された値の履歴を表示するラベル\n",
    "history_label = ttk.Label(frame, wraplength=600, textvariable=history,font=(\"\",\"20\",\"normal\"))\n",
    "history_label.pack(side=tk.TOP, anchor=tk.W, padx=20)"
   ]
  },
  {
   "cell_type": "code",
   "execution_count": 36,
   "id": "8fdac1c2",
   "metadata": {},
   "outputs": [],
   "source": [
    "root.mainloop()"
   ]
  },
  {
   "cell_type": "markdown",
   "id": "841fb71b",
   "metadata": {},
   "source": [
    "# 残りは履歴が画面からはみ出さないようにすることと\n",
    "# 全体の配置を整えること。ファイト！！"
   ]
  }
 ],
 "metadata": {
  "kernelspec": {
   "display_name": "Python 3 (ipykernel)",
   "language": "python",
   "name": "python3"
  },
  "language_info": {
   "codemirror_mode": {
    "name": "ipython",
    "version": 3
   },
   "file_extension": ".py",
   "mimetype": "text/x-python",
   "name": "python",
   "nbconvert_exporter": "python",
   "pygments_lexer": "ipython3",
   "version": "3.10.9"
  }
 },
 "nbformat": 4,
 "nbformat_minor": 5
}
